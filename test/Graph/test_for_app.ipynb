{
 "cells": [
  {
   "cell_type": "code",
   "execution_count": 1,
   "metadata": {},
   "outputs": [],
   "source": [
    "# %pip install -r C:\\Users\\jank9\\Amort\\requirements.txt\n",
    "# %pip install pickleshare"
   ]
  },
  {
   "cell_type": "code",
   "execution_count": 1,
   "metadata": {},
   "outputs": [],
   "source": [
    "from itertools import accumulate\n",
    "from dash import Dash, dcc, callback, Output, Input, State, ALL, callback_context, html, no_update\n",
    "from dash.exceptions import PreventUpdate\n",
    "from dash_iconify import DashIconify # type: ignore\n",
    "import plotly.express as px\n",
    "import dash_mantine_components as dmc # type: ignore\n",
    "import time\n",
    "import numpy as np"
   ]
  },
  {
   "cell_type": "code",
   "execution_count": 2,
   "metadata": {},
   "outputs": [
    {
     "name": "stdout",
     "output_type": "stream",
     "text": [
      "C:\\Users\\jank9\\Amort\n"
     ]
    }
   ],
   "source": [
    "%cd C:\\Users\\jank9\\Amort\n",
    "from app.Dashboard.assets.ids import GRAPH, LOAN\n",
    "from app.Loan import df_schema, calculator, default_kwargs, example_for_subsidy_arr"
   ]
  },
  {
   "cell_type": "code",
   "execution_count": 194,
   "metadata": {},
   "outputs": [],
   "source": [
    "default_kwargs_subsidy = default_kwargs.copy()\n",
    "default_kwargs_subsidy['subsidy_arr'] = example_for_subsidy_arr\n",
    "memory= calculator(**default_kwargs, thousand_sep= False)\n",
    "memory_subsidy = calculator(**default_kwargs_subsidy, thousand_sep= False)\n",
    "# default_kwargs\n"
   ]
  },
  {
   "cell_type": "code",
   "execution_count": 195,
   "metadata": {},
   "outputs": [
    {
     "data": {
      "text/plain": [
       "{'本金攤還法': {'labels': ['攤還本金', '應付利息'], 'values': [8000000, 2334467]},\n",
       " '本息攤還法': {'labels': ['攤還本金', '應付利息'], 'values': [8000000, 2558837]},\n",
       " '償還總額': {'本金攤還法': [10334467], '本息攤還法': [10558837]}}"
      ]
     },
     "execution_count": 195,
     "metadata": {},
     "output_type": "execute_result"
    }
   ],
   "source": [
    "target= [\n",
    "    df_schema.level_2.PAYMENT, \n",
    "    df_schema.level_2.PRINCIPAL, \n",
    "    df_schema.level_2.INTEREST\n",
    "]\n",
    "\n",
    "pie_data = {\n",
    "    df_schema.level_1.EPP: {\n",
    "        'labels': [],\n",
    "        'values': []\n",
    "    },\n",
    "    df_schema.level_1.ETP: {\n",
    "        'labels': [],\n",
    "        'values': []\n",
    "    },\n",
    "    df_schema.level_2.PAYMENT: {\n",
    "        df_schema.level_1.EPP: [],\n",
    "        df_schema.level_1.ETP: []\n",
    "    },\n",
    "}\n",
    "\n",
    "# memory= memory_subsidy\n",
    "for key, value in {k: round(v) for k, v in zip(memory['columns'], memory['data'][-1]) if k[-1] in target}.items():\n",
    "    if key[-1] != df_schema.level_2.PAYMENT:\n",
    "        if len(key) > 2:\n",
    "            if 'names' not in pie_data[key[-2]]: # avoid errors raised by the restriction regarding the same length of arrays in composing the pie chart.\n",
    "                pie_data[key[-2]].update({'names': [key[0]]})\n",
    "            else:\n",
    "                pie_data[key[-2]]['names'].append(key[0])\n",
    "        pie_data[key[-2]]['labels'].append(key[-1])\n",
    "        pie_data[key[-2]]['values'].append(value)\n",
    "    elif key[-1] == df_schema.level_2.PAYMENT:\n",
    "        pie_data[key[-1]][key[-2]].append(value)\n",
    "        summary = sum(pie_data[key[-1]][key[-2]])\n",
    "        pie_data[key[-1]][key[-2]] = [summary]\n",
    "    \n",
    "\n",
    "pie_data\n"
   ]
  },
  {
   "cell_type": "code",
   "execution_count": 196,
   "metadata": {},
   "outputs": [
    {
     "data": {
      "application/vnd.plotly.v1+json": {
       "config": {
        "plotlyServerURL": "https://plot.ly"
       },
       "data": [
        {
         "customdata": [
          [
           "攤還本金"
          ],
          [
           "應付利息"
          ]
         ],
         "domain": {
          "x": [
           0,
           0.45
          ],
          "y": [
           0,
           1
          ]
         },
         "hole": 0.7,
         "hoverinfo": "label+percent+name",
         "hovertemplate": "labels=%{customdata[0]}<br>value=%{value}<extra></extra>",
         "labels": [
          "攤還本金",
          "應付利息"
         ],
         "legendgroup": "",
         "marker": {
          "colors": [
           "#1F77B4",
           "#FF7F0E"
          ]
         },
         "name": "",
         "opacity": 0.8,
         "showlegend": true,
         "type": "pie",
         "values": [
          8000000,
          2558837
         ]
        },
        {
         "customdata": [
          [
           "攤還本金"
          ],
          [
           "應付利息"
          ]
         ],
         "domain": {
          "x": [
           0,
           0.45
          ],
          "y": [
           0,
           1
          ]
         },
         "hole": 0.7,
         "hoverinfo": "label+percent+name",
         "hovertemplate": "labels=%{customdata[0]}<br>value=%{value}<extra></extra>",
         "labels": [
          "攤還本金",
          "應付利息"
         ],
         "legendgroup": "",
         "marker": {
          "colors": [
           "#1F77B4",
           "#FF7F0E"
          ]
         },
         "name": "",
         "opacity": 0.8,
         "showlegend": true,
         "type": "pie",
         "values": [
          8000000,
          2558837
         ]
        },
        {
         "customdata": [
          [
           "攤還本金"
          ],
          [
           "應付利息"
          ]
         ],
         "domain": {
          "x": [
           0.55,
           1
          ],
          "y": [
           0,
           1
          ]
         },
         "hole": 0.7,
         "hoverinfo": "label+percent+name",
         "hovertemplate": "labels=%{customdata[0]}<br>value=%{value}<extra></extra>",
         "labels": [
          "攤還本金",
          "應付利息"
         ],
         "legendgroup": "",
         "marker": {
          "colors": [
           "#1F77B4",
           "#FF7F0E"
          ]
         },
         "name": "",
         "opacity": 0.8,
         "showlegend": true,
         "type": "pie",
         "values": [
          8000000,
          2334467
         ]
        },
        {
         "customdata": [
          [
           "攤還本金"
          ],
          [
           "應付利息"
          ]
         ],
         "domain": {
          "x": [
           0.55,
           1
          ],
          "y": [
           0,
           1
          ]
         },
         "hole": 0.7,
         "hoverinfo": "label+percent+name",
         "hovertemplate": "labels=%{customdata[0]}<br>value=%{value}<extra></extra>",
         "labels": [
          "攤還本金",
          "應付利息"
         ],
         "legendgroup": "",
         "marker": {
          "colors": [
           "#1F77B4",
           "#FF7F0E"
          ]
         },
         "name": "",
         "opacity": 0.8,
         "showlegend": true,
         "type": "pie",
         "values": [
          8000000,
          2334467
         ]
        }
       ],
       "layout": {
        "annotations": [
         {
          "align": "center",
          "ax": 0,
          "ay": 0,
          "font": {
           "size": 20
          },
          "showarrow": false,
          "text": "\n                    <b> 28,548</b>\n                     <br><b>本金攤還法</b><br>\n            ",
          "x": 0.08,
          "xref": "paper",
          "y": 0.4
         },
         {
          "align": "center",
          "ax": 0,
          "ay": 0,
          "font": {
           "size": 20
          },
          "showarrow": false,
          "text": "\n                    <b> 29,168</b>\n                     <br><b>本息攤還法</b><br>\n            ",
          "x": 0.9199999999999999,
          "xref": "paper",
          "y": 0.4
         },
         {
          "ax": 0,
          "ay": 0,
          "font": {
           "color": "#17BECF",
           "size": 13
          },
          "showarrow": false,
          "text": "<b>平均償還金額:</b><br>",
          "x": 0.195,
          "y": 0.58
         },
         {
          "ax": 0,
          "ay": 0,
          "font": {
           "color": "#17BECF",
           "size": 13
          },
          "showarrow": false,
          "text": "<b>平均償還金額:</b><br>",
          "x": 0.81,
          "y": 0.58
         }
        ],
        "template": {
         "data": {
          "bar": [
           {
            "error_x": {
             "color": "rgb(36,36,36)"
            },
            "error_y": {
             "color": "rgb(36,36,36)"
            },
            "marker": {
             "line": {
              "color": "rgb(234,234,242)",
              "width": 0.5
             },
             "pattern": {
              "fillmode": "overlay",
              "size": 10,
              "solidity": 0.2
             }
            },
            "type": "bar"
           }
          ],
          "barpolar": [
           {
            "marker": {
             "line": {
              "color": "rgb(234,234,242)",
              "width": 0.5
             },
             "pattern": {
              "fillmode": "overlay",
              "size": 10,
              "solidity": 0.2
             }
            },
            "type": "barpolar"
           }
          ],
          "carpet": [
           {
            "aaxis": {
             "endlinecolor": "rgb(36,36,36)",
             "gridcolor": "white",
             "linecolor": "white",
             "minorgridcolor": "white",
             "startlinecolor": "rgb(36,36,36)"
            },
            "baxis": {
             "endlinecolor": "rgb(36,36,36)",
             "gridcolor": "white",
             "linecolor": "white",
             "minorgridcolor": "white",
             "startlinecolor": "rgb(36,36,36)"
            },
            "type": "carpet"
           }
          ],
          "choropleth": [
           {
            "colorbar": {
             "outlinewidth": 0,
             "tickcolor": "rgb(36,36,36)",
             "ticklen": 8,
             "ticks": "outside",
             "tickwidth": 2
            },
            "type": "choropleth"
           }
          ],
          "contour": [
           {
            "colorbar": {
             "outlinewidth": 0,
             "tickcolor": "rgb(36,36,36)",
             "ticklen": 8,
             "ticks": "outside",
             "tickwidth": 2
            },
            "colorscale": [
             [
              0,
              "rgb(2,4,25)"
             ],
             [
              0.06274509803921569,
              "rgb(24,15,41)"
             ],
             [
              0.12549019607843137,
              "rgb(47,23,57)"
             ],
             [
              0.18823529411764706,
              "rgb(71,28,72)"
             ],
             [
              0.25098039215686274,
              "rgb(97,30,82)"
             ],
             [
              0.3137254901960784,
              "rgb(123,30,89)"
             ],
             [
              0.3764705882352941,
              "rgb(150,27,91)"
             ],
             [
              0.4392156862745098,
              "rgb(177,22,88)"
             ],
             [
              0.5019607843137255,
              "rgb(203,26,79)"
             ],
             [
              0.5647058823529412,
              "rgb(223,47,67)"
             ],
             [
              0.6274509803921569,
              "rgb(236,76,61)"
             ],
             [
              0.6901960784313725,
              "rgb(242,107,73)"
             ],
             [
              0.7529411764705882,
              "rgb(244,135,95)"
             ],
             [
              0.8156862745098039,
              "rgb(245,162,122)"
             ],
             [
              0.8784313725490196,
              "rgb(246,188,153)"
             ],
             [
              0.9411764705882353,
              "rgb(247,212,187)"
             ],
             [
              1,
              "rgb(250,234,220)"
             ]
            ],
            "type": "contour"
           }
          ],
          "contourcarpet": [
           {
            "colorbar": {
             "outlinewidth": 0,
             "tickcolor": "rgb(36,36,36)",
             "ticklen": 8,
             "ticks": "outside",
             "tickwidth": 2
            },
            "type": "contourcarpet"
           }
          ],
          "heatmap": [
           {
            "colorbar": {
             "outlinewidth": 0,
             "tickcolor": "rgb(36,36,36)",
             "ticklen": 8,
             "ticks": "outside",
             "tickwidth": 2
            },
            "colorscale": [
             [
              0,
              "rgb(2,4,25)"
             ],
             [
              0.06274509803921569,
              "rgb(24,15,41)"
             ],
             [
              0.12549019607843137,
              "rgb(47,23,57)"
             ],
             [
              0.18823529411764706,
              "rgb(71,28,72)"
             ],
             [
              0.25098039215686274,
              "rgb(97,30,82)"
             ],
             [
              0.3137254901960784,
              "rgb(123,30,89)"
             ],
             [
              0.3764705882352941,
              "rgb(150,27,91)"
             ],
             [
              0.4392156862745098,
              "rgb(177,22,88)"
             ],
             [
              0.5019607843137255,
              "rgb(203,26,79)"
             ],
             [
              0.5647058823529412,
              "rgb(223,47,67)"
             ],
             [
              0.6274509803921569,
              "rgb(236,76,61)"
             ],
             [
              0.6901960784313725,
              "rgb(242,107,73)"
             ],
             [
              0.7529411764705882,
              "rgb(244,135,95)"
             ],
             [
              0.8156862745098039,
              "rgb(245,162,122)"
             ],
             [
              0.8784313725490196,
              "rgb(246,188,153)"
             ],
             [
              0.9411764705882353,
              "rgb(247,212,187)"
             ],
             [
              1,
              "rgb(250,234,220)"
             ]
            ],
            "type": "heatmap"
           }
          ],
          "heatmapgl": [
           {
            "colorbar": {
             "outlinewidth": 0,
             "tickcolor": "rgb(36,36,36)",
             "ticklen": 8,
             "ticks": "outside",
             "tickwidth": 2
            },
            "colorscale": [
             [
              0,
              "rgb(2,4,25)"
             ],
             [
              0.06274509803921569,
              "rgb(24,15,41)"
             ],
             [
              0.12549019607843137,
              "rgb(47,23,57)"
             ],
             [
              0.18823529411764706,
              "rgb(71,28,72)"
             ],
             [
              0.25098039215686274,
              "rgb(97,30,82)"
             ],
             [
              0.3137254901960784,
              "rgb(123,30,89)"
             ],
             [
              0.3764705882352941,
              "rgb(150,27,91)"
             ],
             [
              0.4392156862745098,
              "rgb(177,22,88)"
             ],
             [
              0.5019607843137255,
              "rgb(203,26,79)"
             ],
             [
              0.5647058823529412,
              "rgb(223,47,67)"
             ],
             [
              0.6274509803921569,
              "rgb(236,76,61)"
             ],
             [
              0.6901960784313725,
              "rgb(242,107,73)"
             ],
             [
              0.7529411764705882,
              "rgb(244,135,95)"
             ],
             [
              0.8156862745098039,
              "rgb(245,162,122)"
             ],
             [
              0.8784313725490196,
              "rgb(246,188,153)"
             ],
             [
              0.9411764705882353,
              "rgb(247,212,187)"
             ],
             [
              1,
              "rgb(250,234,220)"
             ]
            ],
            "type": "heatmapgl"
           }
          ],
          "histogram": [
           {
            "marker": {
             "pattern": {
              "fillmode": "overlay",
              "size": 10,
              "solidity": 0.2
             }
            },
            "type": "histogram"
           }
          ],
          "histogram2d": [
           {
            "colorbar": {
             "outlinewidth": 0,
             "tickcolor": "rgb(36,36,36)",
             "ticklen": 8,
             "ticks": "outside",
             "tickwidth": 2
            },
            "colorscale": [
             [
              0,
              "rgb(2,4,25)"
             ],
             [
              0.06274509803921569,
              "rgb(24,15,41)"
             ],
             [
              0.12549019607843137,
              "rgb(47,23,57)"
             ],
             [
              0.18823529411764706,
              "rgb(71,28,72)"
             ],
             [
              0.25098039215686274,
              "rgb(97,30,82)"
             ],
             [
              0.3137254901960784,
              "rgb(123,30,89)"
             ],
             [
              0.3764705882352941,
              "rgb(150,27,91)"
             ],
             [
              0.4392156862745098,
              "rgb(177,22,88)"
             ],
             [
              0.5019607843137255,
              "rgb(203,26,79)"
             ],
             [
              0.5647058823529412,
              "rgb(223,47,67)"
             ],
             [
              0.6274509803921569,
              "rgb(236,76,61)"
             ],
             [
              0.6901960784313725,
              "rgb(242,107,73)"
             ],
             [
              0.7529411764705882,
              "rgb(244,135,95)"
             ],
             [
              0.8156862745098039,
              "rgb(245,162,122)"
             ],
             [
              0.8784313725490196,
              "rgb(246,188,153)"
             ],
             [
              0.9411764705882353,
              "rgb(247,212,187)"
             ],
             [
              1,
              "rgb(250,234,220)"
             ]
            ],
            "type": "histogram2d"
           }
          ],
          "histogram2dcontour": [
           {
            "colorbar": {
             "outlinewidth": 0,
             "tickcolor": "rgb(36,36,36)",
             "ticklen": 8,
             "ticks": "outside",
             "tickwidth": 2
            },
            "colorscale": [
             [
              0,
              "rgb(2,4,25)"
             ],
             [
              0.06274509803921569,
              "rgb(24,15,41)"
             ],
             [
              0.12549019607843137,
              "rgb(47,23,57)"
             ],
             [
              0.18823529411764706,
              "rgb(71,28,72)"
             ],
             [
              0.25098039215686274,
              "rgb(97,30,82)"
             ],
             [
              0.3137254901960784,
              "rgb(123,30,89)"
             ],
             [
              0.3764705882352941,
              "rgb(150,27,91)"
             ],
             [
              0.4392156862745098,
              "rgb(177,22,88)"
             ],
             [
              0.5019607843137255,
              "rgb(203,26,79)"
             ],
             [
              0.5647058823529412,
              "rgb(223,47,67)"
             ],
             [
              0.6274509803921569,
              "rgb(236,76,61)"
             ],
             [
              0.6901960784313725,
              "rgb(242,107,73)"
             ],
             [
              0.7529411764705882,
              "rgb(244,135,95)"
             ],
             [
              0.8156862745098039,
              "rgb(245,162,122)"
             ],
             [
              0.8784313725490196,
              "rgb(246,188,153)"
             ],
             [
              0.9411764705882353,
              "rgb(247,212,187)"
             ],
             [
              1,
              "rgb(250,234,220)"
             ]
            ],
            "type": "histogram2dcontour"
           }
          ],
          "mesh3d": [
           {
            "colorbar": {
             "outlinewidth": 0,
             "tickcolor": "rgb(36,36,36)",
             "ticklen": 8,
             "ticks": "outside",
             "tickwidth": 2
            },
            "type": "mesh3d"
           }
          ],
          "parcoords": [
           {
            "line": {
             "colorbar": {
              "outlinewidth": 0,
              "tickcolor": "rgb(36,36,36)",
              "ticklen": 8,
              "ticks": "outside",
              "tickwidth": 2
             }
            },
            "type": "parcoords"
           }
          ],
          "pie": [
           {
            "automargin": true,
            "type": "pie"
           }
          ],
          "scatter": [
           {
            "fillpattern": {
             "fillmode": "overlay",
             "size": 10,
             "solidity": 0.2
            },
            "type": "scatter"
           }
          ],
          "scatter3d": [
           {
            "line": {
             "colorbar": {
              "outlinewidth": 0,
              "tickcolor": "rgb(36,36,36)",
              "ticklen": 8,
              "ticks": "outside",
              "tickwidth": 2
             }
            },
            "marker": {
             "colorbar": {
              "outlinewidth": 0,
              "tickcolor": "rgb(36,36,36)",
              "ticklen": 8,
              "ticks": "outside",
              "tickwidth": 2
             }
            },
            "type": "scatter3d"
           }
          ],
          "scattercarpet": [
           {
            "marker": {
             "colorbar": {
              "outlinewidth": 0,
              "tickcolor": "rgb(36,36,36)",
              "ticklen": 8,
              "ticks": "outside",
              "tickwidth": 2
             }
            },
            "type": "scattercarpet"
           }
          ],
          "scattergeo": [
           {
            "marker": {
             "colorbar": {
              "outlinewidth": 0,
              "tickcolor": "rgb(36,36,36)",
              "ticklen": 8,
              "ticks": "outside",
              "tickwidth": 2
             }
            },
            "type": "scattergeo"
           }
          ],
          "scattergl": [
           {
            "marker": {
             "colorbar": {
              "outlinewidth": 0,
              "tickcolor": "rgb(36,36,36)",
              "ticklen": 8,
              "ticks": "outside",
              "tickwidth": 2
             }
            },
            "type": "scattergl"
           }
          ],
          "scattermapbox": [
           {
            "marker": {
             "colorbar": {
              "outlinewidth": 0,
              "tickcolor": "rgb(36,36,36)",
              "ticklen": 8,
              "ticks": "outside",
              "tickwidth": 2
             }
            },
            "type": "scattermapbox"
           }
          ],
          "scatterpolar": [
           {
            "marker": {
             "colorbar": {
              "outlinewidth": 0,
              "tickcolor": "rgb(36,36,36)",
              "ticklen": 8,
              "ticks": "outside",
              "tickwidth": 2
             }
            },
            "type": "scatterpolar"
           }
          ],
          "scatterpolargl": [
           {
            "marker": {
             "colorbar": {
              "outlinewidth": 0,
              "tickcolor": "rgb(36,36,36)",
              "ticklen": 8,
              "ticks": "outside",
              "tickwidth": 2
             }
            },
            "type": "scatterpolargl"
           }
          ],
          "scatterternary": [
           {
            "marker": {
             "colorbar": {
              "outlinewidth": 0,
              "tickcolor": "rgb(36,36,36)",
              "ticklen": 8,
              "ticks": "outside",
              "tickwidth": 2
             }
            },
            "type": "scatterternary"
           }
          ],
          "surface": [
           {
            "colorbar": {
             "outlinewidth": 0,
             "tickcolor": "rgb(36,36,36)",
             "ticklen": 8,
             "ticks": "outside",
             "tickwidth": 2
            },
            "colorscale": [
             [
              0,
              "rgb(2,4,25)"
             ],
             [
              0.06274509803921569,
              "rgb(24,15,41)"
             ],
             [
              0.12549019607843137,
              "rgb(47,23,57)"
             ],
             [
              0.18823529411764706,
              "rgb(71,28,72)"
             ],
             [
              0.25098039215686274,
              "rgb(97,30,82)"
             ],
             [
              0.3137254901960784,
              "rgb(123,30,89)"
             ],
             [
              0.3764705882352941,
              "rgb(150,27,91)"
             ],
             [
              0.4392156862745098,
              "rgb(177,22,88)"
             ],
             [
              0.5019607843137255,
              "rgb(203,26,79)"
             ],
             [
              0.5647058823529412,
              "rgb(223,47,67)"
             ],
             [
              0.6274509803921569,
              "rgb(236,76,61)"
             ],
             [
              0.6901960784313725,
              "rgb(242,107,73)"
             ],
             [
              0.7529411764705882,
              "rgb(244,135,95)"
             ],
             [
              0.8156862745098039,
              "rgb(245,162,122)"
             ],
             [
              0.8784313725490196,
              "rgb(246,188,153)"
             ],
             [
              0.9411764705882353,
              "rgb(247,212,187)"
             ],
             [
              1,
              "rgb(250,234,220)"
             ]
            ],
            "type": "surface"
           }
          ],
          "table": [
           {
            "cells": {
             "fill": {
              "color": "rgb(231,231,240)"
             },
             "line": {
              "color": "white"
             }
            },
            "header": {
             "fill": {
              "color": "rgb(183,183,191)"
             },
             "line": {
              "color": "white"
             }
            },
            "type": "table"
           }
          ]
         },
         "layout": {
          "annotationdefaults": {
           "arrowcolor": "rgb(67,103,167)"
          },
          "autotypenumbers": "strict",
          "coloraxis": {
           "colorbar": {
            "outlinewidth": 0,
            "tickcolor": "rgb(36,36,36)",
            "ticklen": 8,
            "ticks": "outside",
            "tickwidth": 2
           }
          },
          "colorscale": {
           "sequential": [
            [
             0,
             "rgb(2,4,25)"
            ],
            [
             0.06274509803921569,
             "rgb(24,15,41)"
            ],
            [
             0.12549019607843137,
             "rgb(47,23,57)"
            ],
            [
             0.18823529411764706,
             "rgb(71,28,72)"
            ],
            [
             0.25098039215686274,
             "rgb(97,30,82)"
            ],
            [
             0.3137254901960784,
             "rgb(123,30,89)"
            ],
            [
             0.3764705882352941,
             "rgb(150,27,91)"
            ],
            [
             0.4392156862745098,
             "rgb(177,22,88)"
            ],
            [
             0.5019607843137255,
             "rgb(203,26,79)"
            ],
            [
             0.5647058823529412,
             "rgb(223,47,67)"
            ],
            [
             0.6274509803921569,
             "rgb(236,76,61)"
            ],
            [
             0.6901960784313725,
             "rgb(242,107,73)"
            ],
            [
             0.7529411764705882,
             "rgb(244,135,95)"
            ],
            [
             0.8156862745098039,
             "rgb(245,162,122)"
            ],
            [
             0.8784313725490196,
             "rgb(246,188,153)"
            ],
            [
             0.9411764705882353,
             "rgb(247,212,187)"
            ],
            [
             1,
             "rgb(250,234,220)"
            ]
           ],
           "sequentialminus": [
            [
             0,
             "rgb(2,4,25)"
            ],
            [
             0.06274509803921569,
             "rgb(24,15,41)"
            ],
            [
             0.12549019607843137,
             "rgb(47,23,57)"
            ],
            [
             0.18823529411764706,
             "rgb(71,28,72)"
            ],
            [
             0.25098039215686274,
             "rgb(97,30,82)"
            ],
            [
             0.3137254901960784,
             "rgb(123,30,89)"
            ],
            [
             0.3764705882352941,
             "rgb(150,27,91)"
            ],
            [
             0.4392156862745098,
             "rgb(177,22,88)"
            ],
            [
             0.5019607843137255,
             "rgb(203,26,79)"
            ],
            [
             0.5647058823529412,
             "rgb(223,47,67)"
            ],
            [
             0.6274509803921569,
             "rgb(236,76,61)"
            ],
            [
             0.6901960784313725,
             "rgb(242,107,73)"
            ],
            [
             0.7529411764705882,
             "rgb(244,135,95)"
            ],
            [
             0.8156862745098039,
             "rgb(245,162,122)"
            ],
            [
             0.8784313725490196,
             "rgb(246,188,153)"
            ],
            [
             0.9411764705882353,
             "rgb(247,212,187)"
            ],
            [
             1,
             "rgb(250,234,220)"
            ]
           ]
          },
          "colorway": [
           "rgb(76,114,176)",
           "rgb(221,132,82)",
           "rgb(85,168,104)",
           "rgb(196,78,82)",
           "rgb(129,114,179)",
           "rgb(147,120,96)",
           "rgb(218,139,195)",
           "rgb(140,140,140)",
           "rgb(204,185,116)",
           "rgb(100,181,205)"
          ],
          "font": {
           "color": "rgb(36,36,36)"
          },
          "geo": {
           "bgcolor": "white",
           "lakecolor": "white",
           "landcolor": "rgb(234,234,242)",
           "showlakes": true,
           "showland": true,
           "subunitcolor": "white"
          },
          "hoverlabel": {
           "align": "left"
          },
          "hovermode": "closest",
          "paper_bgcolor": "white",
          "plot_bgcolor": "rgb(234,234,242)",
          "polar": {
           "angularaxis": {
            "gridcolor": "white",
            "linecolor": "white",
            "showgrid": true,
            "ticks": ""
           },
           "bgcolor": "rgb(234,234,242)",
           "radialaxis": {
            "gridcolor": "white",
            "linecolor": "white",
            "showgrid": true,
            "ticks": ""
           }
          },
          "scene": {
           "xaxis": {
            "backgroundcolor": "rgb(234,234,242)",
            "gridcolor": "white",
            "gridwidth": 2,
            "linecolor": "white",
            "showbackground": true,
            "showgrid": true,
            "ticks": "",
            "zerolinecolor": "white"
           },
           "yaxis": {
            "backgroundcolor": "rgb(234,234,242)",
            "gridcolor": "white",
            "gridwidth": 2,
            "linecolor": "white",
            "showbackground": true,
            "showgrid": true,
            "ticks": "",
            "zerolinecolor": "white"
           },
           "zaxis": {
            "backgroundcolor": "rgb(234,234,242)",
            "gridcolor": "white",
            "gridwidth": 2,
            "linecolor": "white",
            "showbackground": true,
            "showgrid": true,
            "ticks": "",
            "zerolinecolor": "white"
           }
          },
          "shapedefaults": {
           "fillcolor": "rgb(67,103,167)",
           "line": {
            "width": 0
           },
           "opacity": 0.5
          },
          "ternary": {
           "aaxis": {
            "gridcolor": "white",
            "linecolor": "white",
            "showgrid": true,
            "ticks": ""
           },
           "baxis": {
            "gridcolor": "white",
            "linecolor": "white",
            "showgrid": true,
            "ticks": ""
           },
           "bgcolor": "rgb(234,234,242)",
           "caxis": {
            "gridcolor": "white",
            "linecolor": "white",
            "showgrid": true,
            "ticks": ""
           }
          },
          "xaxis": {
           "automargin": true,
           "gridcolor": "white",
           "linecolor": "white",
           "showgrid": true,
           "ticks": "",
           "title": {
            "standoff": 15
           },
           "zerolinecolor": "white"
          },
          "yaxis": {
           "automargin": true,
           "gridcolor": "white",
           "linecolor": "white",
           "showgrid": true,
           "ticks": "",
           "title": {
            "standoff": 15
           },
           "zerolinecolor": "white"
          }
         }
        },
        "title": {
         "text": "<b>Total Payment</b>"
        }
       }
      }
     },
     "metadata": {},
     "output_type": "display_data"
    }
   ],
   "source": [
    "from plotly.subplots import make_subplots\n",
    "\n",
    "fig = make_subplots(rows=1, cols=len({k for k in pie_data.keys() if k != df_schema.level_2.PAYMENT}), specs=[[{'type':'domain'}, {'type':'domain'}]])\n",
    "\n",
    "for col, name in enumerate({k for k in pie_data.keys() if k != df_schema.level_2.PAYMENT}):\n",
    "    for label in pie_data[name]['labels']:\n",
    "        fig.add_trace(\n",
    "            px.pie(\n",
    "                pie_data[name], \n",
    "                values='values', \n",
    "                names='labels', \n",
    "                title=name, \n",
    "                opacity= .8,\n",
    "                color= 'labels',\n",
    "                color_discrete_sequence= px.colors.qualitative.D3,\n",
    "                ).data[0], \n",
    "                1, \n",
    "                col + 1,\n",
    "        )\n",
    "fig.update_traces(\n",
    "    hole= .7,\n",
    "    hoverinfo=\"label+percent+name\"\n",
    ")\n",
    "fig.update_layout(\n",
    "    title_text=\"<b>Total Payment</b>\", \n",
    "    template= 'seaborn',\n",
    "    annotations=[\n",
    "        dict(\n",
    "            text= f\"\"\"\n",
    "                    <b>{round(pie_data[df_schema.level_2.PAYMENT][name][0] // len(memory['data'])): ,}</b>\n",
    "                     <br><b>{name}</b><br>\n",
    "            \"\"\",\n",
    "            align='center', \n",
    "            x= 0.08 + 0.84 * n,\n",
    "            y=0.4, \n",
    "            xref='paper', # [paper, x, x2, x3]\n",
    "            font_size=20, \n",
    "            showarrow=False,\n",
    "            ax=0,\n",
    "            ay=0\n",
    "            ) \n",
    "            for n, name in enumerate([k for k in pie_data.keys() if k != df_schema.level_2.PAYMENT])\n",
    "    ] + [dict(\n",
    "            text= \"\"\"<b>平均償還金額:</b><br>\"\"\",\n",
    "            x= 0.195 + 0.615 * n,\n",
    "            y=0.58,\n",
    "            font_size=13,\n",
    "            showarrow=False,\n",
    "            ax=0,\n",
    "            ay=0,\n",
    "            font_color= px.colors.qualitative.D3[9],\n",
    "        ) for n in range(len([k for k in pie_data.keys() if k != df_schema.level_2.PAYMENT]))],\n",
    "    # showlegend=False\n",
    ")\n",
    "\n",
    "fig.show()"
   ]
  },
  {
   "cell_type": "code",
   "execution_count": 55,
   "metadata": {},
   "outputs": [
    {
     "data": {
      "text/plain": [
       "[[22222.222222222223,\n",
       "  22222.222222222223,\n",
       "  22222.222222222223,\n",
       "  22222.222222222223,\n",
       "  22222.222222222223],\n",
       " [16396.76945974857,\n",
       "  16423.27757037516,\n",
       "  16449.8285357806,\n",
       "  16476.422425246776,\n",
       "  16503.059308167594]]"
      ]
     },
     "execution_count": 55,
     "metadata": {},
     "output_type": "execute_result"
    }
   ],
   "source": [
    "from itertools import product\n",
    "import time\n",
    "timepoint= 5\n",
    "bar_data = {\n",
    "                    'method': [df_schema.level_1.EPP, df_schema.level_1.ETP],\n",
    "                    'subsidy': [df_schema.level_1.EPP, df_schema.level_1.ETP],\n",
    "                    'items': ['principal', 'interest', 'residual'],\n",
    "                    'value': [],\n",
    "                }\n",
    "\n",
    "t_0 = time.time()\n",
    "\n",
    "p = [\n",
    "    [\n",
    "        [\n",
    "            data[n] for data in memory['data'][1:memory['index'].index(timepoint)+1]\n",
    "            \n",
    "         ] \n",
    "         for n, col in enumerate(memory['columns']) if (\n",
    "             (col[0] == df_schema.level_0.ORIGINAL and col[1] == name and col[2] == df_schema.level_2.PRINCIPAL) and\n",
    "             (col[0] == df_schema.level_0.SUBSIDY and col[1] == subsidy_name and col[2] == df_schema.level_2.PRINCIPAL)\n",
    "             if len(col) > 2\n",
    "             else (col[0] == name and col[1] == df_schema.level_2.PRINCIPAL \n",
    "                   if name == subsidy_name else False\n",
    "                   )\n",
    "            )\n",
    "    ] for name, subsidy_name in product(bar_data['method'], bar_data['subsidy'])\n",
    "]\n",
    "merge_sublist(p)\n",
    "# print(time.time() - t_0)"
   ]
  },
  {
   "cell_type": "code",
   "execution_count": 35,
   "metadata": {},
   "outputs": [
    {
     "data": {
      "text/plain": [
       "[('本息攤還法', '攤還本金'),\n",
       " ('本息攤還法', '應付利息'),\n",
       " ('本息攤還法', '償還總額'),\n",
       " ('本息攤還法', '剩餘貸款'),\n",
       " ('本金攤還法', '攤還本金'),\n",
       " ('本金攤還法', '應付利息'),\n",
       " ('本金攤還法', '償還總額'),\n",
       " ('本金攤還法', '剩餘貸款')]"
      ]
     },
     "execution_count": 35,
     "metadata": {},
     "output_type": "execute_result"
    }
   ],
   "source": [
    "memory['columns']"
   ]
  },
  {
   "cell_type": "code",
   "execution_count": 14,
   "metadata": {},
   "outputs": [
    {
     "data": {
      "text/plain": [
       "[88889, 65746, 3, 8]"
      ]
     },
     "execution_count": 14,
     "metadata": {},
     "output_type": "execute_result"
    }
   ],
   "source": [
    "from itertools import chain\n",
    "bar_data= {\n",
    "    'names': [df_schema.level_1.EPP, df_schema.level_1.ETP],\n",
    "    'values': [],\n",
    "    'labels': ['princial', 'interest', 'residual'],\n",
    "}\n",
    "\n",
    "re= [\n",
    "        [\n",
    "            [\n",
    "                da for col, da in zip(res['columns'], data) \n",
    "                if col[0]== name and col[1] == df_schema.level_2.PRINCIPAL\n",
    "            ][0] \n",
    "            for data in res['data'][1:5]\n",
    "        ] for name in bar_data['names']\n",
    "]\n",
    "# np.sum([v for sub in re for v in sub])\n",
    "# [round(np.sum(v)) for v in [*re]]\n",
    "[round(np.sum(l)) for l in [*re, *[[1,2], [3,5]]]]"
   ]
  },
  {
   "cell_type": "code",
   "execution_count": 3,
   "metadata": {},
   "outputs": [],
   "source": [
    "def graph():\n",
    "    \"\"\"Build the graph\"\"\"\n",
    "    layout = dmc.Container(\n",
    "        [\n",
    "            dmc.Group(\n",
    "                [\n",
    "                    html.Div(\n",
    "                        dmc.LoadingOverlay(\n",
    "                            id= 'loading-overlay-for-general',\n",
    "                            children= [],\n",
    "                            loaderProps={\n",
    "                                \"variant\": \"oval\",\n",
    "                                 \"color\": \"blue\", \n",
    "                                 \"size\": \"lg\",\n",
    "                                 'is_loading': True,\n",
    "                            },\n",
    "                            transitionDuration= 0.5,\n",
    "                        ),\n",
    "                        style={\n",
    "                            'border-radius': '5px',\n",
    "                            'border': '1px solid #ccc',\n",
    "                            'border-radius': '5px',\n",
    "                            'height': 150,\n",
    "                            'background-color': 'white',\n",
    "                        },\n",
    "                    ),\n",
    "                    html.Div(\n",
    "                        dmc.LoadingOverlay(\n",
    "                                id= 'loading-overlay-for-details',\n",
    "                                children= [],\n",
    "                            loaderProps={\"variant\": \"oval\",\n",
    "                                 \"color\": \"blue\", \n",
    "                                 \"size\": \"lg\",\n",
    "                                 'is_loading': True,\n",
    "                            },\n",
    "                            style= {\n",
    "                                'margin-top': '10px',\n",
    "                            },\n",
    "                            transitionDuration= 0.5,\n",
    "                            \n",
    "\n",
    "                        ),\n",
    "                        style={\n",
    "                            'border-radius': '5px',\n",
    "                            'border': '1px solid #ccc',\n",
    "                            'height': 150,\n",
    "                            'background-color': 'white',\n",
    "                        },\n",
    "                    ),\n",
    "                ],\n",
    "                grow=True,\n",
    "                style= {\n",
    "                    'margin-top': '10px',\n",
    "                }    \n",
    "            ),\n",
    "            dmc.Space(h=20),\n",
    "            dmc.Group(\n",
    "                [\n",
    "                    dmc.Menu(\n",
    "                        [\n",
    "                            dmc.MenuTarget(\n",
    "                                dmc.Button(\n",
    "                                    id='menu-target',\n",
    "                                    children=df_schema.level_2.PAYMENT,\n",
    "                                    variant=\"gradient\",\n",
    "                                    gradient={\"from\": \"indigo\", \"to\": \"cyan\"},\n",
    "                                    style={\n",
    "                                        'width': '110px',\n",
    "                                    },\n",
    "                                    loading={'loading_type': 'overlay'},\n",
    "                                    loaderPosition='center',\n",
    "                                    loaderProps={\"variant\": \"dots\",\n",
    "                                                 \"color\": \"white\", \"size\": \"sm\"},\n",
    "                                ),\n",
    "                            ),\n",
    "                            dmc.MenuDropdown(\n",
    "                                [],\n",
    "                                id='menu-dropdown',\n",
    "                            ),\n",
    "                        ],\n",
    "                        id=GRAPH.DROPDOWN.MENU,\n",
    "                    ),\n",
    "                    dmc.SegmentedControl(\n",
    "                        id=GRAPH.ACCUMULATION,\n",
    "                        value=\"regular\",\n",
    "                        data=[\n",
    "                            {\"value\": \"regular\", \"label\": \"Regular\"},\n",
    "                            {\"value\": \"cumulative\", \"label\": \"Cumulative\"},\n",
    "                        ],\n",
    "                        size='sm',\n",
    "                        style={\n",
    "                            'background-color': \"rgba(0, 62, 143, 0.29)\",\n",
    "                            'box-shadow': '0 0 5px #ccc',\n",
    "                        },\n",
    "                    ),\n",
    "                ],\n",
    "                spacing=10,\n",
    "                position='left',\n",
    "                style={\n",
    "                    'width': '100%',\n",
    "                }\n",
    "            ),\n",
    "            dmc.Space(h=20),\n",
    "            html.Div(\n",
    "                dmc.LoadingOverlay(\n",
    "                    id= 'loading-overlay-for-main-graph',\n",
    "                    loaderProps={\"variant\": \"oval\",\n",
    "                                 \"color\": \"blue\", \n",
    "                                 \"size\": \"lg\",\n",
    "                                 'is_loading': True,\n",
    "                                 },\n",
    "                    transitionDuration= 0.5,\n",
    "                ),\n",
    "                style={\n",
    "                    'height': 600,\n",
    "                },\n",
    "            ),\n",
    "        ],\n",
    "        fluid=True,\n",
    "        style={\n",
    "            'width': '100%',\n",
    "            'height': 'auto',\n",
    "            'margin-top': '5px',\n",
    "        }\n",
    "    )\n",
    "\n",
    "#1 options for dropdown menu of the main graph\n",
    "    @callback(\n",
    "        Output('menu-dropdown', 'children'),\n",
    "        Output('menu-dropdown', 'style'),\n",
    "        Input(GRAPH.ACCUMULATION, 'value'),\n",
    "        Input('menu-target', 'children'),\n",
    "        Input(LOAN.RESULT.DATAFRAME, 'data'),\n",
    "    )\n",
    "    def update_toggle_items(\n",
    "        accum,\n",
    "        label,\n",
    "        data,\n",
    "    ):\n",
    "        data = data['data']\n",
    "        level_0 = {c[0] for c in data['columns']}\n",
    "        if df_schema.level_0.TOTAL in level_0:\n",
    "            return [], {'display': 'none'}\n",
    "        else:\n",
    "            columns_for_original_mortgate = [\n",
    "                df_schema.level_2.PAYMENT,\n",
    "                df_schema.level_2.PRINCIPAL,\n",
    "                df_schema.level_2.INTEREST,\n",
    "                df_schema.level_2.RESIDUAL,\n",
    "            ]\n",
    "            if accum and accum == 'cumulative':\n",
    "                columns_for_original_mortgate = [\n",
    "                    v for v in columns_for_original_mortgate if v != df_schema.level_2.RESIDUAL]\n",
    "            dropdown = [\n",
    "                dmc.MenuItem(\n",
    "                    column,\n",
    "                    id={\n",
    "                        'index': column,\n",
    "                        'type': GRAPH.DROPDOWN.ITEM\n",
    "                    },\n",
    "                ) for column in columns_for_original_mortgate if column != label\n",
    "            ]  # avoid duplicate label\n",
    "            return dropdown, {'display': 'block'}\n",
    "\n",
    "#2 update the main graph\n",
    "    @callback(\n",
    "        Output('loading-overlay-for-main-graph', 'children'),\n",
    "        Output('menu-target', 'children'),\n",
    "        Output('menu-target', 'rightIcon'),\n",
    "        Output('menu-target', 'loading'),\n",
    "        Output('menu-target', 'gradient'),\n",
    "        Input(GRAPH.ACCUMULATION, 'value'),\n",
    "        Input(LOAN.RESULT.DATAFRAME, 'data'),\n",
    "        Input({'index': ALL, 'type': GRAPH.DROPDOWN.ITEM}, 'n_clicks'),\n",
    "        State('menu-target', 'children'),\n",
    "    )\n",
    "    def update_graph(\n",
    "        accum,\n",
    "        data,\n",
    "        _,\n",
    "        label,\n",
    "    ):\n",
    "        ctx = callback_context\n",
    "        data = data['data']\n",
    "        \n",
    "        if isinstance(ctx.triggered_id, dict):\n",
    "            chosen_figure = ctx.triggered_id['index']\n",
    "        else:\n",
    "            # type: ignore\n",
    "            if df_schema.level_0.TOTAL not in [col[0] for col in data['columns']]:\n",
    "                if accum == 'cumulative':\n",
    "                    if label == df_schema.level_2.RESIDUAL:\n",
    "                        chosen_figure = df_schema.level_2.PAYMENT\n",
    "                    else:\n",
    "                        chosen_figure = label\n",
    "                else:\n",
    "                    chosen_figure = (\n",
    "                        label if label != df_schema.level_0.TOTAL else df_schema.level_2.PAYMENT)\n",
    "            else:\n",
    "                chosen_figure = df_schema.level_0.TOTAL\n",
    "        \n",
    "        ns, cols = zip(*[(n, col) for n, col in enumerate(data['columns']) if chosen_figure in col])\n",
    "        x_axis_value = data['index'][1:-1]\n",
    "        \n",
    "        # construct the data frame for the graph\n",
    "        data_frame_for_loan_timeSeries= {\n",
    "            'Time': [],\n",
    "            'Amount': [],\n",
    "            'labels': [],\n",
    "            'methods': [],\n",
    "        }\n",
    "\n",
    "        for n, col in zip(ns, cols): # n: index of the column, col: column name\n",
    "            dff = [data[n] for data in data['data'][1:-1]]\n",
    "            method = (\" + \".join([co for co in col if co != chosen_figure]) if len(col) > 2 else col[0])\n",
    "            if accum == 'cumulative':\n",
    "                dff = [*accumulate(dff)]\n",
    "            dff = [*map(lambda x: f\"{round(x):,}\", dff)]\n",
    "            \n",
    "            data_frame_for_loan_timeSeries['Time'].extend(x_axis_value)\n",
    "            data_frame_for_loan_timeSeries['Amount'].extend(dff)\n",
    "            data_frame_for_loan_timeSeries['labels'].extend([method] * len(x_axis_value))\n",
    "            data_frame_for_loan_timeSeries['methods'].extend([method] * len(x_axis_value))\n",
    "            \n",
    "        fig = px.line(\n",
    "            data_frame_for_loan_timeSeries, \n",
    "            x= \"Time\", \n",
    "            y=\"Amount\", \n",
    "            color=\"methods\", \n",
    "            title='<b>Life of Loan</b>', \n",
    "            # width=1000, \n",
    "            height=600,\n",
    "            log_y= True,\n",
    "            line_shape=\"spline\",\n",
    "            render_mode=\"svg\",\n",
    "            hover_name=\"methods\",\n",
    "            template=\"plotly_white\",\n",
    "            color_discrete_map= {\n",
    "                    df_schema.level_1.ETP: '#0C82DF',\n",
    "                    df_schema.level_1.EPP: '#F7DC6F',\n",
    "            },   \n",
    "        )\n",
    "        fig.update_layout(showlegend= False)\n",
    "\n",
    "        return dcc.Graph(\n",
    "                        figure= fig,\n",
    "                        id=GRAPH.LINE,\n",
    "                        hoverData= {'points': [{'x': '0', 'hovertext': 'ETP'}]},\n",
    "                        config={\n",
    "                            'displayModeBar': False,\n",
    "                            'responsive': True,\n",
    "                            'doubleClick': 'reset+autosize',\n",
    "                            'toImageButtonOptions': {\n",
    "                                'format': 'svg',\n",
    "                                'filename': 'custom_image',\n",
    "                                'height': 600,\n",
    "                                'width': 1000,\n",
    "                                'scale': 1,\n",
    "                            },\n",
    "                        },\n",
    "                        style={\n",
    "                            'width': '100%',\n",
    "                            'height': 600,\n",
    "                            'margin-top': '5px',\n",
    "                            'border-radius': '5px',\n",
    "                            'border': '1px solid #ccc',\n",
    "                        },\n",
    "                    ), chosen_figure, (DashIconify(icon=\"raphael:arrowdown\") if chosen_figure != df_schema.level_0.TOTAL else None), False, ({\"from\": \"teal\", \"to\": \"blue\", \"deg\": 60} if chosen_figure == df_schema.level_0.TOTAL else {\"from\": \"indigo\", \"to\": \"cyan\"})\n",
    "\n",
    "#3 callback for updating the information from hoverData\n",
    "    @callback(\n",
    "        Output('loading-overlay-for-general', 'children'),\n",
    "        Input(LOAN.RESULT.DATAFRAME, 'data'),\n",
    "    )\n",
    "    def update_general_info(\n",
    "        memory\n",
    "        ):\n",
    "        bar_layout= dict(\n",
    "            showlegend= False,\n",
    "            margin= dict(l=20, r=10, t=35, b=50),\n",
    "            paper_bgcolor= 'rgba(0, 0, 0, 0)',\n",
    "            plot_bgcolor= 'rgba(0, 0, 0, 0)',\n",
    "        )\n",
    "        if memory:\n",
    "            bars_data = {\n",
    "                'columns': list({col[0] for col in memory['data']['columns']}),\n",
    "                'data': []\n",
    "            }\n",
    "            if bars_data['columns'][0]:\n",
    "                bars_data['data']= [\n",
    "                    round([da for col, da in zip(memory['data']['columns'], memory['data']['data'][-1]) if col[0]== chosen_col and col[1]== df_schema.level_2.PAYMENT][0]/ len(memory['data']['index'][1:-1]))\n",
    "                        for chosen_col in bars_data['columns']\n",
    "                ]\n",
    "                figure= px.bar(\n",
    "                    bars_data,\n",
    "                    x= 'data',\n",
    "                    y= 'columns',\n",
    "                    text= 'data',\n",
    "                    text_auto= True,                \n",
    "                    color= 'columns',\n",
    "                    height= 180,\n",
    "                    width= 400,\n",
    "                    title= '<b>Average Payment</b>',\n",
    "                    color_discrete_map= {\n",
    "                        df_schema.level_1.ETP: '#0C82DF',\n",
    "                        df_schema.level_1.EPP: '#F7DC6F',\n",
    "                    },\n",
    "                    hover_data= {\n",
    "                        'columns': False,\n",
    "                        'data': True,\n",
    "                    },\n",
    "                    hover_name= 'columns',\n",
    "                )\n",
    "                figure.update_layout(bar_layout)\n",
    "                figure.update_yaxes(\n",
    "                    visible= False,\n",
    "                    showticklabels= False,\n",
    "                )\n",
    "                figure.update_xaxes(\n",
    "                    range= [0, max(bars_data['data']) * 1.1],\n",
    "                    visible= False,\n",
    "                    showticklabels= False,\n",
    "                )\n",
    "                figure.update_traces(\n",
    "                    texttemplate='%{text:,}',\n",
    "\n",
    "                )\n",
    "            else:\n",
    "                figure= px.bar()\n",
    "                figure.update_layout(bar_layout)\n",
    "                figure.update_yaxes(\n",
    "                    visible= False,\n",
    "                    showticklabels= False,\n",
    "                )\n",
    "                figure.update_xaxes(\n",
    "                    visible= False,\n",
    "                    showticklabels= False,\n",
    "                )\n",
    "            return dcc.Graph(\n",
    "                    figure= figure,\n",
    "                    animate= True,\n",
    "                    style={\n",
    "                        'background-color': 'rgba(0, 0, 0, 0)',\n",
    "                        'margin-top': '10px',\n",
    "                        'width': '100%',\n",
    "                    },\n",
    "                    config={\n",
    "                        'displayModeBar': False,\n",
    "                        'doubleClick': 'reset+autosize',\n",
    "                        'autosizable': True,\n",
    "                        'editable': False,\n",
    "                        'scrollZoom': False,\n",
    "                        'staticPlot': False,\n",
    "                    }\n",
    "            )\n",
    "        else:\n",
    "            raise PreventUpdate\n",
    "\n",
    "#4 callback for updating the detail information from hoverData\n",
    "    @callback(\n",
    "        Output('loading-overlay-for-details', 'children'),\n",
    "        Input(GRAPH.LINE, 'hoverData'),\n",
    "        State(LOAN.RESULT.DATAFRAME, 'data'),\n",
    "    )\n",
    "    def hover_data(\n",
    "        hover_data,\n",
    "        memory\n",
    "        ):\n",
    "        bar_layout= dict(\n",
    "            showlegend= False,\n",
    "            margin= dict(l=20, r=10, t=35, b=40),\n",
    "            paper_bgcolor= 'rgba(0, 0, 0, 0)',\n",
    "            plot_bgcolor= 'rgba(0, 0, 0, 0)',\n",
    "        )\n",
    "        if memory:\n",
    "            timepoint= hover_data['points'][0]['x']\n",
    "            \n",
    "            if timepoint != '0':\n",
    "                chosen_figure= hover_data['points'][0]['hovertext']\n",
    "                bar_data = {\n",
    "                    'names': chosen_figure,\n",
    "                    'items': ['principal', 'interest', 'residual'],\n",
    "                    'data': [],\n",
    "                    'index': 0,\n",
    "                }\n",
    "                principal = round(\n",
    "                            np.sum(\n",
    "                                    [\n",
    "                                        [da for col, da in zip(memory['data']['columns'], data) \n",
    "                                         if col[0]== chosen_figure and col[1]== df_schema.level_2.PRINCIPAL] \n",
    "                                         for data in memory['data']['data'][1:memory['data']['index'].index(timepoint)+1]\n",
    "                                    ]\n",
    "                                )\n",
    "                            )\n",
    "                interest = round(\n",
    "                            np.sum(\n",
    "                                    [\n",
    "                                        [da for col, da in zip(memory['data']['columns'], data) \n",
    "                                         if col[0]== chosen_figure and col[1]== df_schema.level_2.INTEREST] \n",
    "                                         for data in memory['data']['data'][1:memory['data']['index'].index(timepoint)+1]\n",
    "                                    ]\n",
    "                                )\n",
    "                            )\n",
    "                residual = round([data for col, data in zip(memory['data']['columns'], memory['data']['data'][memory['data']['index'].index(timepoint)]) if col[0]== chosen_figure and col[1]== df_schema.level_2.RESIDUAL][0])\n",
    "                bar_data['data']= [principal, interest, residual]\n",
    "\n",
    "                fig= px.bar(\n",
    "                    bar_data,\n",
    "                    x= 'data',\n",
    "                    y= 'index',\n",
    "                    text= 'data',\n",
    "                    text_auto= True,                \n",
    "                    color= 'items',\n",
    "                    height= 180,\n",
    "                    # width= 480,\n",
    "                    orientation= 'h',\n",
    "                    title= '<b>Payment Breakdown</b>',\n",
    "                    color_discrete_map= {\n",
    "                        'principal': '#FF7F50',\n",
    "                        'interest': '#F7DC6F',\n",
    "                        'residual': '#6495ED',\n",
    "                    },\n",
    "                    hover_data= {\n",
    "                        'items': False,\n",
    "                        'index': False,\n",
    "                        'data': True,\n",
    "                    },\n",
    "                    hover_name= 'items',\n",
    "                )\n",
    "                fig.update_layout(bar_layout)\n",
    "                fig.update_yaxes(\n",
    "                    visible= False,\n",
    "                    showticklabels= False,\n",
    "                )\n",
    "                fig.update_xaxes(\n",
    "                    # dynamcally range the x axis\n",
    "                    range= [0, sum(bar_data['data']) * 1.1],\n",
    "                    visible= False,\n",
    "                    showticklabels= False,\n",
    "                )\n",
    "                fig.update_traces(\n",
    "                    texttemplate='%{text:,}',\n",
    "                    width= 0.5,\n",
    "                )\n",
    "                return dcc.Graph(\n",
    "                        figure= fig,\n",
    "                        animate= True,\n",
    "                        style={\n",
    "                            'background-color': 'rgba(0, 0, 0, 0)',\n",
    "                            'margin-top': '10px',\n",
    "                            'width': '100%', \n",
    "                        },\n",
    "                        config={\n",
    "                            'displayModeBar': False,\n",
    "                            'doubleClick': 'reset+autosize',\n",
    "                            'autosizable': True,\n",
    "                            'editable': False,\n",
    "                            'scrollZoom': False,\n",
    "                            'staticPlot': False,\n",
    "                        }\n",
    "                )\n",
    "            else:\n",
    "                return no_update\n",
    "        else:\n",
    "            raise PreventUpdate\n",
    "       \n",
    "    return layout"
   ]
  },
  {
   "cell_type": "code",
   "execution_count": null,
   "metadata": {},
   "outputs": [],
   "source": [
    "from app.Dashboard.pages.components.Controls.panels import panel\n",
    "from app.Dashboard.assets import ids, specs\n",
    "import dash_bootstrap_components as dbc"
   ]
  },
  {
   "cell_type": "code",
   "execution_count": 12,
   "metadata": {},
   "outputs": [
    {
     "data": {
      "text/html": [
       "\n",
       "        <iframe\n",
       "            width=\"100%\"\n",
       "            height=\"650\"\n",
       "            src=\"http://127.0.0.1:8050/\"\n",
       "            frameborder=\"0\"\n",
       "            allowfullscreen\n",
       "            \n",
       "        ></iframe>\n",
       "        "
      ],
      "text/plain": [
       "<IPython.lib.display.IFrame at 0x1de6fab2fd0>"
      ]
     },
     "metadata": {},
     "output_type": "display_data"
    }
   ],
   "source": [
    "from app.Dashboard.pages.components.Controls.panels import panel\n",
    "from app.Dashboard.assets import ids, specs\n",
    "import dash_bootstrap_components as dbc\n",
    "\n",
    "if __name__ == '__main__':\n",
    "    app = Dash(\n",
    "        __name__,\n",
    "        assets_folder= 'app/Dashboard/assets/',\n",
    "        suppress_callback_exceptions=True,\n",
    "        external_stylesheets=[\n",
    "        \"https://fonts.googleapis.com/css2?family=Inter:wght@100;200;300;400;500;900&display=swap\",\n",
    "        dbc.themes.LUMEN,  # Dash Themes CSS\n",
    "        dbc.icons.BOOTSTRAP,\n",
    "        \"https://use.fontawesome.com/releases/v6.2.1/css/all.css\",  # Font Awesome Icons CSS\n",
    "    ],\n",
    "    )\n",
    "\n",
    "    panel_tabs= dmc.Tabs(\n",
    "            [\n",
    "                dmc.TabsList(\n",
    "                    [\n",
    "                        dmc.Tab(\n",
    "                            children= 'Main',\n",
    "                            id= 'main-options',\n",
    "                            #    icon= DashIconify(icon=\"bi:graph-up\"),\n",
    "                            value= 'Main',\n",
    "                            style= {\n",
    "                                'font-weight': 'bold',\n",
    "                              },\n",
    "                            ),\n",
    "                        dmc.Tab(\n",
    "                            children= 'Advanced',\n",
    "                            id= 'advanced-options',\n",
    "                            # icon= DashIconify(icon=\"ph:table-light\"),\n",
    "                            value= 'Advanced',\n",
    "                            icon=DashIconify(icon=\"tabler:settings\"),\n",
    "                            style= {\n",
    "                                'font-weight': 'bold',\n",
    "                              },\n",
    "                        ),\n",
    "                    ],\n",
    "                    grow= True,\n",
    "                ),\n",
    "                dmc.TabsPanel(panel.front(), value= 'Main'),\n",
    "                dmc.TabsPanel(\n",
    "                    panel._advancedoptions(), \n",
    "                    value= 'Advanced',\n",
    "                ),\n",
    "            ],\n",
    "            value= 'Main',\n",
    "            id=\"options-tabs\",\n",
    "            activateTabWithKeyboard= True,\n",
    "            className= 'custom-scrollbar',\n",
    "            variant= 'outline',\n",
    "            style= {\n",
    "                'width': '100%',\n",
    "                'height': '100%',\n",
    "                'scrollbar-color': '#0C82DF #E2E2E2',\n",
    "                'color': '#333',\n",
    "                'background-color': 'white',\n",
    "            },\n",
    "\n",
    "        )\n",
    "\n",
    "    app.layout = dmc.MantineProvider(\n",
    "        id= ids.APP.LOADING,\n",
    "        theme= {\n",
    "            \"fontFamily\": \"'Inter', sans-serif\",\n",
    "            \"primaryColor\": \"indigo\",\n",
    "            \"components\": {\n",
    "                \"Button\": {\"styles\": {\"root\": {\"fontWeight\": 400}}},\n",
    "                \"Alert\": {\"styles\": {\"title\": {\"fontWeight\": 500}}},\n",
    "                \"AvatarGroup\": {\"styles\": {\"truncated\": {\"fontWeight\": 500}}},\n",
    "            },\n",
    "        },\n",
    "        children=[\n",
    "            panel.register(),\n",
    "            # NAVBAR,\n",
    "            dmc.Container(\n",
    "                [\n",
    "                    \n",
    "                    html.Div(\n",
    "                        children= [\n",
    "                            panel_tabs,\n",
    "                        ],\n",
    "                        className= 'custom-scrollbar',\n",
    "                        style= {\n",
    "                            'width': '25dvw',\n",
    "                            'height': '98vh',\n",
    "                            'margin-top': 10,\n",
    "                            'margin-left': 15,\n",
    "                            'overflow-y': 'scroll',\n",
    "                            'scrollbar-color': '#0C82DF #E2E2E2',\n",
    "                            'border': '1px solid #ccc',\n",
    "                            'border-radius': '5px',\n",
    "                            'font-size': '20px',\n",
    "                            'font-weight': 'bold',\n",
    "                            'padding': '20px',\n",
    "                            'color': '#333',\n",
    "                            'background-color': 'white',\n",
    "                        },\n",
    "                    ),\n",
    "                    html.Div(\n",
    "                        [\n",
    "                            graph(),\n",
    "                        ],\n",
    "                        className= 'custom-scrollbar',\n",
    "                        style= {\n",
    "                            'width': 'calc(100dvw - 365px)',\n",
    "                            'height': '98vh',\n",
    "                            'overflow-y': 'scroll',\n",
    "                            'scrollbar-color': '#0C82DF #E2E2E2',\n",
    "                            'margin-left': 5,\n",
    "                        }\n",
    "                    ),\n",
    "                    \n",
    "                ],\n",
    "                fluid= True,\n",
    "                style= {\n",
    "                    'background-color': 'rgba(246,248,250,255)',\n",
    "                    'width': '100vw',\n",
    "                    'height': '98vh',\n",
    "                    'margin': 0,\n",
    "                    'padding': 0,\n",
    "                    'display': 'flex',\n",
    "                }\n",
    "            )\n",
    "        ],\n",
    "        withGlobalStyles= True,\n",
    "    )\n",
    "    app.run_server(\n",
    "    mode= 'external', # ['external', 'inline', 'jupyterlab', 'flask', 'dash', 'dash_jupyter'],\n",
    "    dev_tools_ui=True,\n",
    "    dev_tools_hot_reload= True,\n",
    "    threaded=True,\n",
    "    port= 8050,\n",
    "    dev_tools_hot_reload_interval= 1000,\n",
    "    )"
   ]
  }
 ],
 "metadata": {
  "kernelspec": {
   "display_name": "Amort",
   "language": "python",
   "name": "python3"
  },
  "language_info": {
   "codemirror_mode": {
    "name": "ipython",
    "version": 3
   },
   "file_extension": ".py",
   "mimetype": "text/x-python",
   "name": "python",
   "nbconvert_exporter": "python",
   "pygments_lexer": "ipython3",
   "version": "3.11.4"
  }
 },
 "nbformat": 4,
 "nbformat_minor": 2
}
